{
  "nbformat": 4,
  "nbformat_minor": 0,
  "metadata": {
    "colab": {
      "provenance": []
    },
    "kernelspec": {
      "name": "python3",
      "display_name": "Python 3"
    },
    "language_info": {
      "name": "python"
    }
  },
  "cells": [
    {
      "cell_type": "code",
      "execution_count": null,
      "metadata": {
        "colab": {
          "base_uri": "https://localhost:8080/",
          "height": 206
        },
        "id": "jti4JT_zviPZ",
        "outputId": "e84645e6-d2c1-4cd7-ac59-0689639f8854"
      },
      "outputs": [
        {
          "output_type": "execute_result",
          "data": {
            "text/plain": [
              "   Unnamed: 0 estado  idade escolaridade nível de proficiência em inglês  \\\n",
              "0           0     MA     56  Fundamental                   Intermediário   \n",
              "1           1     BA     46     Superior                          Básico   \n",
              "2           2     AM     32  Fundamental                   Intermediário   \n",
              "3           3     CE     60     Superior                          Básico   \n",
              "4           4     SE     25  Fundamental                        Avançado   \n",
              "\n",
              "     renda sexo  \n",
              "0  4006.29    F  \n",
              "1  2423.11    M  \n",
              "2  3835.69    M  \n",
              "3  1870.29    M  \n",
              "4  3529.80    M  "
            ],
            "text/html": [
              "\n",
              "  <div id=\"df-9da26cf8-25e7-4dc1-b52c-6fcc647c937a\" class=\"colab-df-container\">\n",
              "    <div>\n",
              "<style scoped>\n",
              "    .dataframe tbody tr th:only-of-type {\n",
              "        vertical-align: middle;\n",
              "    }\n",
              "\n",
              "    .dataframe tbody tr th {\n",
              "        vertical-align: top;\n",
              "    }\n",
              "\n",
              "    .dataframe thead th {\n",
              "        text-align: right;\n",
              "    }\n",
              "</style>\n",
              "<table border=\"1\" class=\"dataframe\">\n",
              "  <thead>\n",
              "    <tr style=\"text-align: right;\">\n",
              "      <th></th>\n",
              "      <th>Unnamed: 0</th>\n",
              "      <th>estado</th>\n",
              "      <th>idade</th>\n",
              "      <th>escolaridade</th>\n",
              "      <th>nível de proficiência em inglês</th>\n",
              "      <th>renda</th>\n",
              "      <th>sexo</th>\n",
              "    </tr>\n",
              "  </thead>\n",
              "  <tbody>\n",
              "    <tr>\n",
              "      <th>0</th>\n",
              "      <td>0</td>\n",
              "      <td>MA</td>\n",
              "      <td>56</td>\n",
              "      <td>Fundamental</td>\n",
              "      <td>Intermediário</td>\n",
              "      <td>4006.29</td>\n",
              "      <td>F</td>\n",
              "    </tr>\n",
              "    <tr>\n",
              "      <th>1</th>\n",
              "      <td>1</td>\n",
              "      <td>BA</td>\n",
              "      <td>46</td>\n",
              "      <td>Superior</td>\n",
              "      <td>Básico</td>\n",
              "      <td>2423.11</td>\n",
              "      <td>M</td>\n",
              "    </tr>\n",
              "    <tr>\n",
              "      <th>2</th>\n",
              "      <td>2</td>\n",
              "      <td>AM</td>\n",
              "      <td>32</td>\n",
              "      <td>Fundamental</td>\n",
              "      <td>Intermediário</td>\n",
              "      <td>3835.69</td>\n",
              "      <td>M</td>\n",
              "    </tr>\n",
              "    <tr>\n",
              "      <th>3</th>\n",
              "      <td>3</td>\n",
              "      <td>CE</td>\n",
              "      <td>60</td>\n",
              "      <td>Superior</td>\n",
              "      <td>Básico</td>\n",
              "      <td>1870.29</td>\n",
              "      <td>M</td>\n",
              "    </tr>\n",
              "    <tr>\n",
              "      <th>4</th>\n",
              "      <td>4</td>\n",
              "      <td>SE</td>\n",
              "      <td>25</td>\n",
              "      <td>Fundamental</td>\n",
              "      <td>Avançado</td>\n",
              "      <td>3529.80</td>\n",
              "      <td>M</td>\n",
              "    </tr>\n",
              "  </tbody>\n",
              "</table>\n",
              "</div>\n",
              "    <div class=\"colab-df-buttons\">\n",
              "\n",
              "  <div class=\"colab-df-container\">\n",
              "    <button class=\"colab-df-convert\" onclick=\"convertToInteractive('df-9da26cf8-25e7-4dc1-b52c-6fcc647c937a')\"\n",
              "            title=\"Convert this dataframe to an interactive table.\"\n",
              "            style=\"display:none;\">\n",
              "\n",
              "  <svg xmlns=\"http://www.w3.org/2000/svg\" height=\"24px\" viewBox=\"0 -960 960 960\">\n",
              "    <path d=\"M120-120v-720h720v720H120Zm60-500h600v-160H180v160Zm220 220h160v-160H400v160Zm0 220h160v-160H400v160ZM180-400h160v-160H180v160Zm440 0h160v-160H620v160ZM180-180h160v-160H180v160Zm440 0h160v-160H620v160Z\"/>\n",
              "  </svg>\n",
              "    </button>\n",
              "\n",
              "  <style>\n",
              "    .colab-df-container {\n",
              "      display:flex;\n",
              "      gap: 12px;\n",
              "    }\n",
              "\n",
              "    .colab-df-convert {\n",
              "      background-color: #E8F0FE;\n",
              "      border: none;\n",
              "      border-radius: 50%;\n",
              "      cursor: pointer;\n",
              "      display: none;\n",
              "      fill: #1967D2;\n",
              "      height: 32px;\n",
              "      padding: 0 0 0 0;\n",
              "      width: 32px;\n",
              "    }\n",
              "\n",
              "    .colab-df-convert:hover {\n",
              "      background-color: #E2EBFA;\n",
              "      box-shadow: 0px 1px 2px rgba(60, 64, 67, 0.3), 0px 1px 3px 1px rgba(60, 64, 67, 0.15);\n",
              "      fill: #174EA6;\n",
              "    }\n",
              "\n",
              "    .colab-df-buttons div {\n",
              "      margin-bottom: 4px;\n",
              "    }\n",
              "\n",
              "    [theme=dark] .colab-df-convert {\n",
              "      background-color: #3B4455;\n",
              "      fill: #D2E3FC;\n",
              "    }\n",
              "\n",
              "    [theme=dark] .colab-df-convert:hover {\n",
              "      background-color: #434B5C;\n",
              "      box-shadow: 0px 1px 3px 1px rgba(0, 0, 0, 0.15);\n",
              "      filter: drop-shadow(0px 1px 2px rgba(0, 0, 0, 0.3));\n",
              "      fill: #FFFFFF;\n",
              "    }\n",
              "  </style>\n",
              "\n",
              "    <script>\n",
              "      const buttonEl =\n",
              "        document.querySelector('#df-9da26cf8-25e7-4dc1-b52c-6fcc647c937a button.colab-df-convert');\n",
              "      buttonEl.style.display =\n",
              "        google.colab.kernel.accessAllowed ? 'block' : 'none';\n",
              "\n",
              "      async function convertToInteractive(key) {\n",
              "        const element = document.querySelector('#df-9da26cf8-25e7-4dc1-b52c-6fcc647c937a');\n",
              "        const dataTable =\n",
              "          await google.colab.kernel.invokeFunction('convertToInteractive',\n",
              "                                                    [key], {});\n",
              "        if (!dataTable) return;\n",
              "\n",
              "        const docLinkHtml = 'Like what you see? Visit the ' +\n",
              "          '<a target=\"_blank\" href=https://colab.research.google.com/notebooks/data_table.ipynb>data table notebook</a>'\n",
              "          + ' to learn more about interactive tables.';\n",
              "        element.innerHTML = '';\n",
              "        dataTable['output_type'] = 'display_data';\n",
              "        await google.colab.output.renderOutput(dataTable, element);\n",
              "        const docLink = document.createElement('div');\n",
              "        docLink.innerHTML = docLinkHtml;\n",
              "        element.appendChild(docLink);\n",
              "      }\n",
              "    </script>\n",
              "  </div>\n",
              "\n",
              "\n",
              "<div id=\"df-f0b0319f-2d5b-4e53-b6a0-19efef6a6a04\">\n",
              "  <button class=\"colab-df-quickchart\" onclick=\"quickchart('df-f0b0319f-2d5b-4e53-b6a0-19efef6a6a04')\"\n",
              "            title=\"Suggest charts\"\n",
              "            style=\"display:none;\">\n",
              "\n",
              "<svg xmlns=\"http://www.w3.org/2000/svg\" height=\"24px\"viewBox=\"0 0 24 24\"\n",
              "     width=\"24px\">\n",
              "    <g>\n",
              "        <path d=\"M19 3H5c-1.1 0-2 .9-2 2v14c0 1.1.9 2 2 2h14c1.1 0 2-.9 2-2V5c0-1.1-.9-2-2-2zM9 17H7v-7h2v7zm4 0h-2V7h2v10zm4 0h-2v-4h2v4z\"/>\n",
              "    </g>\n",
              "</svg>\n",
              "  </button>\n",
              "\n",
              "<style>\n",
              "  .colab-df-quickchart {\n",
              "      --bg-color: #E8F0FE;\n",
              "      --fill-color: #1967D2;\n",
              "      --hover-bg-color: #E2EBFA;\n",
              "      --hover-fill-color: #174EA6;\n",
              "      --disabled-fill-color: #AAA;\n",
              "      --disabled-bg-color: #DDD;\n",
              "  }\n",
              "\n",
              "  [theme=dark] .colab-df-quickchart {\n",
              "      --bg-color: #3B4455;\n",
              "      --fill-color: #D2E3FC;\n",
              "      --hover-bg-color: #434B5C;\n",
              "      --hover-fill-color: #FFFFFF;\n",
              "      --disabled-bg-color: #3B4455;\n",
              "      --disabled-fill-color: #666;\n",
              "  }\n",
              "\n",
              "  .colab-df-quickchart {\n",
              "    background-color: var(--bg-color);\n",
              "    border: none;\n",
              "    border-radius: 50%;\n",
              "    cursor: pointer;\n",
              "    display: none;\n",
              "    fill: var(--fill-color);\n",
              "    height: 32px;\n",
              "    padding: 0;\n",
              "    width: 32px;\n",
              "  }\n",
              "\n",
              "  .colab-df-quickchart:hover {\n",
              "    background-color: var(--hover-bg-color);\n",
              "    box-shadow: 0 1px 2px rgba(60, 64, 67, 0.3), 0 1px 3px 1px rgba(60, 64, 67, 0.15);\n",
              "    fill: var(--button-hover-fill-color);\n",
              "  }\n",
              "\n",
              "  .colab-df-quickchart-complete:disabled,\n",
              "  .colab-df-quickchart-complete:disabled:hover {\n",
              "    background-color: var(--disabled-bg-color);\n",
              "    fill: var(--disabled-fill-color);\n",
              "    box-shadow: none;\n",
              "  }\n",
              "\n",
              "  .colab-df-spinner {\n",
              "    border: 2px solid var(--fill-color);\n",
              "    border-color: transparent;\n",
              "    border-bottom-color: var(--fill-color);\n",
              "    animation:\n",
              "      spin 1s steps(1) infinite;\n",
              "  }\n",
              "\n",
              "  @keyframes spin {\n",
              "    0% {\n",
              "      border-color: transparent;\n",
              "      border-bottom-color: var(--fill-color);\n",
              "      border-left-color: var(--fill-color);\n",
              "    }\n",
              "    20% {\n",
              "      border-color: transparent;\n",
              "      border-left-color: var(--fill-color);\n",
              "      border-top-color: var(--fill-color);\n",
              "    }\n",
              "    30% {\n",
              "      border-color: transparent;\n",
              "      border-left-color: var(--fill-color);\n",
              "      border-top-color: var(--fill-color);\n",
              "      border-right-color: var(--fill-color);\n",
              "    }\n",
              "    40% {\n",
              "      border-color: transparent;\n",
              "      border-right-color: var(--fill-color);\n",
              "      border-top-color: var(--fill-color);\n",
              "    }\n",
              "    60% {\n",
              "      border-color: transparent;\n",
              "      border-right-color: var(--fill-color);\n",
              "    }\n",
              "    80% {\n",
              "      border-color: transparent;\n",
              "      border-right-color: var(--fill-color);\n",
              "      border-bottom-color: var(--fill-color);\n",
              "    }\n",
              "    90% {\n",
              "      border-color: transparent;\n",
              "      border-bottom-color: var(--fill-color);\n",
              "    }\n",
              "  }\n",
              "</style>\n",
              "\n",
              "  <script>\n",
              "    async function quickchart(key) {\n",
              "      const quickchartButtonEl =\n",
              "        document.querySelector('#' + key + ' button');\n",
              "      quickchartButtonEl.disabled = true;  // To prevent multiple clicks.\n",
              "      quickchartButtonEl.classList.add('colab-df-spinner');\n",
              "      try {\n",
              "        const charts = await google.colab.kernel.invokeFunction(\n",
              "            'suggestCharts', [key], {});\n",
              "      } catch (error) {\n",
              "        console.error('Error during call to suggestCharts:', error);\n",
              "      }\n",
              "      quickchartButtonEl.classList.remove('colab-df-spinner');\n",
              "      quickchartButtonEl.classList.add('colab-df-quickchart-complete');\n",
              "    }\n",
              "    (() => {\n",
              "      let quickchartButtonEl =\n",
              "        document.querySelector('#df-f0b0319f-2d5b-4e53-b6a0-19efef6a6a04 button');\n",
              "      quickchartButtonEl.style.display =\n",
              "        google.colab.kernel.accessAllowed ? 'block' : 'none';\n",
              "    })();\n",
              "  </script>\n",
              "</div>\n",
              "\n",
              "    </div>\n",
              "  </div>\n"
            ],
            "application/vnd.google.colaboratory.intrinsic+json": {
              "type": "dataframe",
              "variable_name": "df_populacao",
              "summary": "{\n  \"name\": \"df_populacao\",\n  \"rows\": 1000,\n  \"fields\": [\n    {\n      \"column\": \"Unnamed: 0\",\n      \"properties\": {\n        \"dtype\": \"number\",\n        \"std\": 288,\n        \"min\": 0,\n        \"max\": 999,\n        \"num_unique_values\": 1000,\n        \"samples\": [\n          521,\n          737,\n          740\n        ],\n        \"semantic_type\": \"\",\n        \"description\": \"\"\n      }\n    },\n    {\n      \"column\": \"estado\",\n      \"properties\": {\n        \"dtype\": \"category\",\n        \"num_unique_values\": 27,\n        \"samples\": [\n          \"AC\",\n          \"PA\",\n          \"SC\"\n        ],\n        \"semantic_type\": \"\",\n        \"description\": \"\"\n      }\n    },\n    {\n      \"column\": \"idade\",\n      \"properties\": {\n        \"dtype\": \"number\",\n        \"std\": 13,\n        \"min\": 18,\n        \"max\": 64,\n        \"num_unique_values\": 47,\n        \"samples\": [\n          24,\n          48,\n          54\n        ],\n        \"semantic_type\": \"\",\n        \"description\": \"\"\n      }\n    },\n    {\n      \"column\": \"escolaridade\",\n      \"properties\": {\n        \"dtype\": \"category\",\n        \"num_unique_values\": 4,\n        \"samples\": [\n          \"Superior\",\n          \"P\\u00f3s-gradua\\u00e7\\u00e3o\",\n          \"Fundamental\"\n        ],\n        \"semantic_type\": \"\",\n        \"description\": \"\"\n      }\n    },\n    {\n      \"column\": \"n\\u00edvel de profici\\u00eancia em ingl\\u00eas\",\n      \"properties\": {\n        \"dtype\": \"category\",\n        \"num_unique_values\": 3,\n        \"samples\": [\n          \"Intermedi\\u00e1rio\",\n          \"B\\u00e1sico\",\n          \"Avan\\u00e7ado\"\n        ],\n        \"semantic_type\": \"\",\n        \"description\": \"\"\n      }\n    },\n    {\n      \"column\": \"renda\",\n      \"properties\": {\n        \"dtype\": \"number\",\n        \"std\": 996.572239312141,\n        \"min\": 103.74,\n        \"max\": 5632.38,\n        \"num_unique_values\": 998,\n        \"samples\": [\n          2752.82,\n          4218.76,\n          2244.62\n        ],\n        \"semantic_type\": \"\",\n        \"description\": \"\"\n      }\n    },\n    {\n      \"column\": \"sexo\",\n      \"properties\": {\n        \"dtype\": \"category\",\n        \"num_unique_values\": 2,\n        \"samples\": [\n          \"M\",\n          \"F\"\n        ],\n        \"semantic_type\": \"\",\n        \"description\": \"\"\n      }\n    }\n  ]\n}"
            }
          },
          "metadata": {},
          "execution_count": 4
        }
      ],
      "source": [
        "\n",
        "import pandas as pd\n",
        "\n",
        "df_populacao = pd.read_csv(\"populacao.csv\")\n",
        "\n",
        "df_populacao.head()\n"
      ]
    },
    {
      "cell_type": "code",
      "source": [],
      "metadata": {
        "id": "Ajo4un58xYoR"
      },
      "execution_count": null,
      "outputs": []
    },
    {
      "cell_type": "markdown",
      "source": [
        "1. Considere pessoas fluentes em inglês, qual a probabilidade\n",
        "complementar? Ou seja, qual a probabilidade de escolhermos uma\n",
        "pessoa aleatória e ela não ser fluente em inglês. Considere fluente\n",
        "quem tem o nível avançado.\n"
      ],
      "metadata": {
        "id": "PgOyP0eXxZT0"
      }
    },
    {
      "cell_type": "code",
      "source": [
        "# o código a seguir conta o número de pessoas fluentes,\n",
        "# calcula a proporção delas em relação ao total da amostra,\n",
        "# e então calcula a probabilidade complementar para determinar a proporção de pessoas que não são fluentes.\n",
        "\n",
        "total_pessoas = df_populacao.shape[0]\n",
        "# calcula o número total de pessoas na amostra.\n",
        "# df_populacao.shape[0] retorna o número de linhas no DataFrame,\n",
        "# que neste caso representa o total de pessoas.\n",
        "\n",
        "pessoas_fluentes = df_populacao[df_populacao['nível de proficiência em inglês'] == 'Avançado'].shape[0]\n",
        "# filtrando o DataFrame para incluir apenas as pessoas que são fluentes em inglês,\n",
        "# considerando como fluentes aquelas com nível de proficiência 'Avançado'.\n",
        "# df_populacao['nível de proficiência em inglês'] == 'Avançado' cria uma série de valores booleanos (True/False),\n",
        "# onde True corresponde às linhas em que a pessoa é fluente em inglês.\n",
        "# df_populacao[...] usa essa série para filtrar o DataFrame. .shape[0] então conta o número de linhas resultantes,\n",
        "# que é o número de pessoas fluentes em inglês na amostra.\n",
        "\n",
        "probabilidade_fluente = pessoas_fluentes / total_pessoas\n",
        "# calcula a probabilidade de uma pessoa escolhida aleatoriamente ser fluente em inglês\n",
        "# divide o número de pessoas fluentes pelo total de pessoas na amostra.\n",
        "\n",
        "probabilidade_nao_fluente = 1 - probabilidade_fluente\n",
        "# calcula a probabilidade complementar\n",
        "# que seria a probabilidade de uma pessoa escolhida aleatoriamente não ser fluente em inglês.\n",
        "# Isso é feito subtraindo a probabilidade de ser fluente (probabilidade_fluente) de 1.\n",
        "# O resultado é a probabilidade de não ser fluente em inglês.\n",
        "\n",
        "probabilidade_nao_fluente\n"
      ],
      "metadata": {
        "colab": {
          "base_uri": "https://localhost:8080/"
        },
        "id": "aiV0LXIEx95b",
        "outputId": "c35580bd-17fd-4f1d-a249-335d993b165b"
      },
      "execution_count": null,
      "outputs": [
        {
          "output_type": "execute_result",
          "data": {
            "text/plain": [
              "0.656"
            ]
          },
          "metadata": {},
          "execution_count": 6
        }
      ]
    },
    {
      "cell_type": "markdown",
      "source": [
        "2. Se uma pessoa escolhida aleatoriamente for de Alagoas ou do Pará,\n",
        "qual é a probabilidade de ela ter uma renda superior a 5 mil reais?\n"
      ],
      "metadata": {
        "id": "WdXWhgnY10_N"
      }
    },
    {
      "cell_type": "code",
      "source": [
        "# calcular a probabilidade complementar de ser fluente em inglês\n",
        "\n",
        "total_pessoas = df_populacao.shape[0]\n",
        "# define o total de pessoas na amostra, obtido pelo número de linhas (shape[0]) no DataFrame df_populacao\n",
        "\n",
        "pessoas_fluentes = df_populacao[df_populacao['nível de proficiência em inglês'] == 'Avançado'].shape[0]\n",
        "# conta quantas pessoas são classificadas como fluentes em inglês (nível 'Avançado')\n",
        "# filtrando o DataFrame e então contando as linhas resultantes.\n",
        "\n",
        "probabilidade_fluente = pessoas_fluentes / total_pessoas\n",
        "# calcula a fração de pessoas fluentes em inglês, dividindo o número de fluentes pelo total de pessoas na amostra\n",
        "\n",
        "probabilidade_nao_fluente = 1 - probabilidade_fluente\n",
        "# determina a probabilidade complementar,\n",
        "# ou seja, a probabilidade de uma pessoa não ser fluente, subtraindo a probabilidade de ser fluente de 1.\n",
        "\n",
        "probabilidade_nao_fluente\n"
      ],
      "metadata": {
        "colab": {
          "base_uri": "https://localhost:8080/"
        },
        "id": "M8Yxp1II129-",
        "outputId": "c2f0cc58-e46a-4240-83ba-62284681ee47"
      },
      "execution_count": null,
      "outputs": [
        {
          "output_type": "execute_result",
          "data": {
            "text/plain": [
              "0.656"
            ]
          },
          "metadata": {},
          "execution_count": 7
        }
      ]
    },
    {
      "cell_type": "markdown",
      "source": [
        "3. Descubra a probabilidade de uma pessoa ter ensino superior completo\n",
        "no estado do Amazonas. Qual a probabilidade da quinta pessoa que\n",
        "você conversar, que é amazonense, ter ensino superior completo?\n"
      ],
      "metadata": {
        "id": "DChWFuvv2xmU"
      }
    },
    {
      "cell_type": "code",
      "source": [
        "# filtrando pessoas de Alagoas ou Pará\n",
        "pessoas_AL_PA = df_populacao[(df_populacao['estado'] == 'AL') | (df_populacao['estado'] == 'PA')]\n",
        "# Cria um subconjunto do DataFrame original\n",
        "# (df_populacao) contendo apenas as pessoas\n",
        "# dos estados de Alagoas ('AL') ou Pará ('PA'), usando o operador | (ou) para combinar as condições\n",
        "\n",
        "# calculando a probabilidade de ter renda superior a 5 mil reais\n",
        "pessoas_renda_superior_5mil = pessoas_AL_PA[pessoas_AL_PA['renda'] > 5000].shape[0]\n",
        "# Conta o número de pessoas dentro do subconjunto pessoas_AL_PA\n",
        "# que têm uma renda superior a 5 mil reais, filtrando por renda\n",
        "# e depois contando o número de linhas resultantes\n",
        "\n",
        "probabilidade_renda_superior_5mil = pessoas_renda_superior_5mil / pessoas_AL_PA.shape[0]\n",
        "# calcula a probabilidade de uma pessoa, selecionada aleatoriamente desse subconjunto de\n",
        "# pessoas de Alagoas ou Pará, ter uma renda superior a 5 mil reais. Isso é feito dividindo o número de pessoas\n",
        "# com renda superior a 5 mil pelo número total de pessoas nos dois estados (Alagoas e Pará) na amostra.\n",
        "\n",
        "\n",
        "probabilidade_renda_superior_5mil\n"
      ],
      "metadata": {
        "colab": {
          "base_uri": "https://localhost:8080/"
        },
        "id": "2mQLzsS13Ft2",
        "outputId": "6241263a-2c05-47d8-ab8f-4449d7fdeb61"
      },
      "execution_count": null,
      "outputs": [
        {
          "output_type": "execute_result",
          "data": {
            "text/plain": [
              "0.05063291139240506"
            ]
          },
          "metadata": {},
          "execution_count": 8
        }
      ]
    },
    {
      "cell_type": "markdown",
      "source": [
        "4. Considerando a renda das pessoas do nosso conjunto, podemos dizer\n",
        "que a renda de uma pessoa brasileira está na sua maioria em que faixa\n",
        "(faça faixa de 1.500 reais)? Qual é a sua função densidade de\n",
        "probabilidade?"
      ],
      "metadata": {
        "id": "0vOEetN04COx"
      }
    },
    {
      "cell_type": "code",
      "source": [
        "pessoas_AM = df_populacao[df_populacao['estado'] == 'AM']\n",
        "# filtra o DataFrame df_populacao para incluir apenas as pessoas do estado do Amazonas ('AM').\n",
        "\n",
        "pessoas_ensino_superior_AM = pessoas_AM[pessoas_AM['escolaridade'] == 'Superior'].shape[0]\n",
        "# dentro do subconjunto de pessoas do Amazonas, conta quantas têm ensino superior completo ('Superior')\n",
        "\n",
        "probabilidade_ensino_superior_AM = pessoas_ensino_superior_AM / pessoas_AM.shape[0]\n",
        "# Calcula a probabilidade de uma pessoa, escolhida aleatoriamente do subconjunto do Amazonas,\n",
        "# ter ensino superior completo.\n",
        "# A probabilidade é obtida dividindo o número de pessoas com ensino superior pelo total de pessoas\n",
        "# no subconjunto do Amazonas.\n",
        "\n",
        "probabilidade_quinta_pessoa_superior_AM = 1 - (1 - probabilidade_ensino_superior_AM)**5\n",
        "# Calcula a probabilidade de, ao falar com cinco pessoas do Amazonas aleatoriamente, pelo menos uma ter ensino\n",
        "# superior completo. Usa o princípio da probabilidade complementar,\n",
        "# subtraindo de 1 a probabilidade de todas as cinco pessoas não terem ensino superior completo.\n",
        "\n",
        "probabilidade_ensino_superior_AM, probabilidade_quinta_pessoa_superior_AM\n"
      ],
      "metadata": {
        "colab": {
          "base_uri": "https://localhost:8080/"
        },
        "id": "fXAfa_ta4B2T",
        "outputId": "fd88eea6-ad34-421b-e5a7-e8db4a248945"
      },
      "execution_count": null,
      "outputs": [
        {
          "output_type": "execute_result",
          "data": {
            "text/plain": [
              "(0.23684210526315788, 0.7411357921270514)"
            ]
          },
          "metadata": {},
          "execution_count": 9
        }
      ]
    },
    {
      "cell_type": "code",
      "source": [
        "# definir as faixas de renda de 1500 em 1500\n",
        "faixas_renda = pd.cut(df_populacao['renda'], bins=range(0, int(df_populacao['renda'].max()) + 1500, 1500))\n",
        "# pd.cut() é uma função do pandas para segmentar e classificar os dados em faixas (bins).\n",
        "# df_populacao['renda'] é a coluna 'renda' do DataFrame df_populacao.\n",
        "# bins=range(0, int(df_populacao['renda'].max()) + 1500, 1500), cria faixas (bins) de renda\n",
        "# de 0 até o valor máximo de renda mais 1500, com intervalos de 1500\n",
        "\n",
        "# cálculo da densidade de cada faixa de renda\n",
        "densidade_renda = faixas_renda.value_counts(normalize=True).sort_index()\n",
        "# value_counts(normalize=True) para contar a ocorrência de cada\n",
        "# faixa e normaliza os resultados para obter proporções\n",
        "# sort_index() garante que os resultados estejam ordenados de acordo com o índice,\n",
        "# que neste caso são as faixas de renda\n",
        "\n",
        "# faixa de renda com maior densidade:\n",
        "faixa_maior_densidade = densidade_renda.idxmax()\n",
        "densidade_renda, faixa_maior_densidade\n",
        "# idxmax() retorna o índice (neste caso, a faixa de renda) com o valor máximo,\n",
        "# ou seja, a faixa de renda mais comum entre os registros.\n",
        "# densidade_renda, faixa_maior_densidade exibe as densidades calculadas para cada faixa\n",
        "# e a faixa de renda que possui a maior densidade\n"
      ],
      "metadata": {
        "colab": {
          "base_uri": "https://localhost:8080/"
        },
        "id": "TE0epk8K5qAG",
        "outputId": "3e73a156-c948-40a9-ee33-92e5fc0d70f8"
      },
      "execution_count": null,
      "outputs": [
        {
          "output_type": "execute_result",
          "data": {
            "text/plain": [
              "((0, 1500]       0.055\n",
              " (1500, 3000]    0.414\n",
              " (3000, 4500]    0.442\n",
              " (4500, 6000]    0.089\n",
              " Name: renda, dtype: float64,\n",
              " Interval(3000, 4500, closed='right'))"
            ]
          },
          "metadata": {},
          "execution_count": 10
        }
      ]
    },
    {
      "cell_type": "markdown",
      "source": [
        "5. Calcule a média e a variância da renda da amostra. Depois faça a\n",
        "distribuição normal, inclua o gráfico."
      ],
      "metadata": {
        "id": "P13V6nGj6JE0"
      }
    },
    {
      "cell_type": "code",
      "source": [
        "import numpy as np\n",
        "import matplotlib.pyplot as plt\n",
        "from scipy.stats import norm\n",
        "\n",
        "# cálculo da média e a variância da renda\n",
        "media_renda = df_populacao['renda'].mean()\n",
        "variancia_renda = df_populacao['renda'].var()\n",
        "\n",
        "# gerar a distribuição normal da renda\n",
        "x = np.linspace(df_populacao['renda'].min(), df_populacao['renda'].max(), 100)\n",
        "# gera 'num' pontos igualmente espaçados entre start e stop\n",
        "y = norm.pdf(x, media_renda, np.sqrt(variancia_renda))\n",
        "# calcula a densidade de probabilidade da distribuição normal para um valor x,\n",
        "# com média loc e desvio padrão scale\n",
        "\n",
        "# plotando a distribuição normal da renda\n",
        "plt.figure(figsize=(8, 5))\n",
        "plt.plot(x, y, label='Distribuição Normal')\n",
        "plt.title('Distribuição Normal da Renda')\n",
        "plt.xlabel('Renda')\n",
        "plt.ylabel('Densidade')\n",
        "plt.legend()\n",
        "plt.show()\n",
        "\n",
        "media_renda, variancia_renda\n",
        "\n",
        "\n",
        "\n"
      ],
      "metadata": {
        "colab": {
          "base_uri": "https://localhost:8080/",
          "height": 504
        },
        "id": "00hjuCXl5xkC",
        "outputId": "68b7e10f-4303-404a-8e6a-2f5d76b17e2e"
      },
      "execution_count": null,
      "outputs": [
        {
          "output_type": "display_data",
          "data": {
            "text/plain": [
              "<Figure size 800x500 with 1 Axes>"
            ],
            "image/png": "[encoded data removed]"
          },
          "metadata": {}
        },
        {
          "output_type": "execute_result",
          "data": {
            "text/plain": [
              "(3082.5371800000003, 993156.2281676152)"
            ]
          },
          "metadata": {},
          "execution_count": 11
        }
      ]
    },
    {
      "cell_type": "markdown",
      "source": [
        "6. Primeiro considere a probabilidade encontrada no nosso conjunto de\n",
        "pessoas com escolaridade de pós-graduação. Considerando a amostra\n",
        "de população brasileira com 1 milhão de habitantes, qual a\n",
        "probabilidade de encontrarmos 243 mil pessoas com pós-graduação?"
      ],
      "metadata": {
        "id": "zjKnnxPb77Ns"
      }
    },
    {
      "cell_type": "code",
      "source": [
        "pessoas_pos_graduacao = df_populacao[df_populacao['escolaridade'] == 'Pós-graduação'].shape[0]\n",
        "# filtrar pessoas com pós-graduaçãoe shape[0] obtém o número total dessas pessoas\n",
        "\n",
        "probabilidade_pos_graduacao = pessoas_pos_graduacao / total_pessoas\n",
        "# calcula a proporção de pessoas com pós-graduação\n",
        "\n",
        "# população total de 1 milhão\n",
        "populacao = 1000000\n",
        "\n",
        "# calculando a probabilidade de encontrar 243 mil pessoas com pós-graduação\n",
        "n = 243000  # número desejado de pessoas com pós-graduação\n",
        "probabilidade = binom.pmf(n, populacao, probabilidade_pos_graduacao)\n",
        "# calcula a probabilidade (pmf - probability mass function) de exatamente k sucessos em n tentativas,\n",
        "# com a probabilidade de sucesso em cada tentativa sendo p.\n",
        "# Aqui, 'k' é 243000, 'n' é 1 milhão, e 'p' é a probabilidade de uma pessoa ter pós-graduação calculada anteriormente.\n",
        "\n",
        "probabilidade\n"
      ],
      "metadata": {
        "colab": {
          "base_uri": "https://localhost:8080/"
        },
        "id": "IELc0OPG8Ai-",
        "outputId": "42ac7d0c-850d-48a6-e217-c434bdcd05bf"
      },
      "execution_count": null,
      "outputs": [
        {
          "output_type": "execute_result",
          "data": {
            "text/plain": [
              "1.1104854289794913e-119"
            ]
          },
          "metadata": {},
          "execution_count": 22
        }
      ]
    },
    {
      "cell_type": "markdown",
      "source": [
        "7. Somando as densidades nós temos a função de densidade acumulada.\n",
        "Considerando a coluna ‘Escolaridade’ faça a função de densidade\n",
        "acumulada discreta para cada nível de escolaridade."
      ],
      "metadata": {
        "id": "2OFyGrru8Ylp"
      }
    },
    {
      "cell_type": "code",
      "source": [
        "densidade_escolaridade = df_populacao['escolaridade'].value_counts(normalize=True).sort_index()\n",
        "# df_populacao['escolaridade']: Acessa a coluna 'escolaridade' do DataFrame.\n",
        "# value_counts(normalize=True): Conta a frequência de cada valor único na coluna, com normalize=True convertendo contagens em proporções.\n",
        "# sort_index(): Ordena os resultados pela etiqueta do índice, que neste caso são os níveis de escolaridade\n",
        "\n",
        "densidade_acumulada_escolaridade = densidade_escolaridade.cumsum()\n",
        "# cumsum(): Calcula a soma acumulada das proporções de 'densidade_escolaridade',\n",
        "# fornecendo a densidade acumulada ao longo dos níveis de escolaridade.\n",
        "\n",
        "densidade_acumulada_escolaridade\n",
        "# contém a função de densidade acumulada para os níveis de escolaridade,\n",
        "# indicando a proporção total de indivíduos com até um certo nível de escolaridade\n",
        "\n",
        "\n"
      ],
      "metadata": {
        "colab": {
          "base_uri": "https://localhost:8080/"
        },
        "id": "6t0e6jej8SGm",
        "outputId": "2a83ce7a-227c-4bd9-93c8-f74725d83eb1"
      },
      "execution_count": null,
      "outputs": [
        {
          "output_type": "execute_result",
          "data": {
            "text/plain": [
              "Fundamental      0.266\n",
              "Médio            0.504\n",
              "Pós-graduação    0.757\n",
              "Superior         1.000\n",
              "Name: escolaridade, dtype: float64"
            ]
          },
          "metadata": {},
          "execution_count": 14
        }
      ]
    },
    {
      "cell_type": "markdown",
      "source": [
        "8. Qual a margem de erro amostral da proporção populacional\n",
        "considerando a proporção de pessoas com nível de inglês\n",
        "intermediário?"
      ],
      "metadata": {
        "id": "bSAuhJ4b8tSM"
      }
    },
    {
      "cell_type": "code",
      "source": [
        "# proporção de pessoas com nível de inglês intermediário\n",
        "proporcao_intermediario = df_populacao[df_populacao['nível de proficiência em inglês'] == 'Intermediário'].shape[0] / total_pessoas\n",
        "# df_populacao[...] == 'Intermediário': Filtra a coluna específica por registros igual a 'Intermediário'\n",
        "# .shape[0]: Conta o número de registros filtrados\n",
        "# / total_pessoas: Divide pela contagem total para obter a proporção\n",
        "\n",
        "# calculando a margem de erro para um nível de confiança de 95%\n",
        "z_score = norm.ppf(0.975)  # Z-score para 95% de confiança\n",
        "# retorna o Z-score que acumula até 97,5% da distribuição normal,\n",
        "# adequado para um intervalo de confiança de 95% (considerando duas caudas)\n",
        "\n",
        "margem_erro_intermediario = z_score * np.sqrt((proporcao_intermediario * (1 - proporcao_intermediario)) / total_pessoas)\n",
        "# np.sqrt calcula a raiz quadrada:\n",
        "# (proporcao_intermediario * (1 - proporcao_intermediario)): Produto da proporção pelo seu complemento\n",
        "# / total_pessoas: Divide pelo tamanho da amostra para ajustar a fórmula da margem de erro\n",
        "# z_score * ...: Multiplica a raiz quadrada pela Z-score para obter a margem de erro\n",
        "\n",
        "margem_erro_intermediario\n",
        "# representa a margem de erro para a proporção de pessoas\n",
        "# com inglês intermediário, considerando um nível de confiança de 95%.."
      ],
      "metadata": {
        "colab": {
          "base_uri": "https://localhost:8080/"
        },
        "id": "wJXuxo2V9p9W",
        "outputId": "b6ab2241-ab46-44e0-b054-a6627b77b103"
      },
      "execution_count": null,
      "outputs": [
        {
          "output_type": "execute_result",
          "data": {
            "text/plain": [
              "0.029121068108804226"
            ]
          },
          "metadata": {},
          "execution_count": 15
        }
      ]
    },
    {
      "cell_type": "markdown",
      "source": [
        "9. Calcula a renda da população. Qual a probabilidade de encontrar 60\n",
        "pessoas com uma renda mil reais superior à média?\n"
      ],
      "metadata": {
        "id": "D06wmzTU9ZB6"
      }
    },
    {
      "cell_type": "code",
      "source": [
        "# calculando a média da renda da população\n",
        "media_renda = df_populacao['renda'].mean()\n",
        "# mean() calcula a média de uma série de números\n",
        "\n",
        "# calculando a proporção de pessoas com renda mil reais superior à média\n",
        "proporcao_mil_acima_media = df_populacao[df_populacao['renda'] > (media_renda + 1000)].shape[0] / total_pessoas\n",
        "# df_populacao['renda'] > (media_renda + 1000): Filtra os registros cuja renda supera a média em mais de R$1000\n",
        "# .shape[0]: Conta o número de registros que atendem ao critério\n",
        "# / total_pessoas: Divide pelo número total de registros para obter a proporção\n",
        "\n",
        "# usando a distribuição binomial para calcular a probabilidade de encontrar 60 pessoas com renda mil reais acima da média em uma amostra de 60 pessoas\n",
        "probabilidade_60_mil_acima = binom.pmf(60, 60, proporcao_mil_acima_media)\n",
        "# binom.pmf(k, n, p): Função que retorna a probabilidade de obter exatamente\n",
        "# 'k' sucessos em 'n' tentativas independentes, com p sendo a probabilidade de\n",
        "# sucesso em cada tentativa. Neste caso, k e n são ambos 60, significando que\n",
        "# se busca a probabilidade de todos os 60 indivíduos em uma amostra de 60 terem renda mil reais acima da média\n",
        "\n",
        "\n",
        "probabilidade_60_mil_acima\n"
      ],
      "metadata": {
        "colab": {
          "base_uri": "https://localhost:8080/"
        },
        "id": "volGdghb9vzo",
        "outputId": "70e97359-0ac2-4fba-8931-e6fbc8eb5d42"
      },
      "execution_count": null,
      "outputs": [
        {
          "output_type": "execute_result",
          "data": {
            "text/plain": [
              "2.5677489595221674e-48"
            ]
          },
          "metadata": {},
          "execution_count": 19
        }
      ]
    },
    {
      "cell_type": "markdown",
      "source": [
        "10. Qual a probabilidade de escolhermos alguém do Sudeste que seja\n",
        "homem, com ensino fundamental e com renda maior que 2 mil reais por\n",
        "mês?"
      ],
      "metadata": {
        "id": "yM7HBVRq9dRx"
      }
    },
    {
      "cell_type": "code",
      "source": [
        "# filtrando pessoas do Sudeste que são homens, com ensino fundamental e renda maior que 2 mil reais\n",
        "pessoas_sudeste_homem_fundamental_renda_maior_2mil = df_populacao[\n",
        "    (df_populacao['estado'].isin(['SP', 'RJ', 'MG', 'ES'])) &\n",
        "    # verifica se o valor na coluna 'estado' está dentro da lista fornecida (estados do Sudeste)\n",
        "    (df_populacao['sexo'] == 'M') &\n",
        "    (df_populacao['escolaridade'] == 'Fundamental') &\n",
        "    (df_populacao['renda'] > 2000)\n",
        "]\n",
        "# &: Operador lógico \"E\", usado para combinar múltiplas condições\n",
        "# .shape[0]: Conta o número de registros que atendem a todas as condições especificadas\n",
        "\n",
        "# calculando a proporção dessas pessoas em relação ao total\n",
        "proporcao_sudeste_homem_fundamental_renda_maior_2mil = pessoas_sudeste_homem_fundamental_renda_maior_2mil.shape[0] / total_pessoas\n",
        "\n",
        "# total_pessoas: Variável que armazena o número total de registros no DataFrame original 'df_populacao'\n",
        "# proporcao_sudeste_homem_fundamental_renda_maior_2mil: Armazena o resultado do cálculo da proporção\n",
        "\n",
        "proporcao_sudeste_homem_fundamental_renda_maior_2mil\n"
      ],
      "metadata": {
        "colab": {
          "base_uri": "https://localhost:8080/"
        },
        "id": "XuiLueqK-S1W",
        "outputId": "79dead28-7769-49f7-a233-b5ce7018939a"
      },
      "execution_count": null,
      "outputs": [
        {
          "output_type": "execute_result",
          "data": {
            "text/plain": [
              "0.019"
            ]
          },
          "metadata": {},
          "execution_count": 18
        }
      ]
    }
  ]
}